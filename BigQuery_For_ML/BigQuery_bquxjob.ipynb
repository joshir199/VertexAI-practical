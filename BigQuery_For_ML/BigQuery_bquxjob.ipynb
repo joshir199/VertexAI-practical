{
  "cells": [
    {
      "cell_type": "code",
      "execution_count": null,
      "metadata": {
        "id": "w6MmeBUBJ-9E"
      },
      "outputs": [],
      "source": [
        "# Fetching Project details and data processing part in Colab Jupyter Notebook directly from BigQuery\n",
        "# It always beeter to analyze data in Notebook instance\n",
        "# @title Setup\n",
        "from google.colab import auth\n",
        "from google.cloud import bigquery\n",
        "from google.colab import data_table\n",
        "\n",
        "project = 'caramel-park-375012' # Project ID inserted based on the query results selected to explore\n",
        "location = 'us-central1' # Location inserted based on the query results selected to explore\n",
        "client = bigquery.Client(project=project, location=location)  #bigquery instance\n",
        "data_table.enable_dataframe_formatter()\n",
        "auth.authenticate_user()  #Authenticate the user before using"
      ]
    },
    {
      "cell_type": "markdown",
      "metadata": {
        "id": "pj42soltXW_H"
      },
      "source": [
        "## Reference SQL syntax from the original job\n",
        "Use the ```jobs.query```\n",
        "[method](https://cloud.google.com/bigquery/docs/reference/rest/v2/jobs/query) to\n",
        "return the SQL syntax from the job. This can be copied from the output cell\n",
        "below to edit the query now or in the future. Alternatively, you can use\n",
        "[this link](https://console.cloud.google.com/bigquery?j=caramel-park-375012:us-central1:bquxjob_73fbf4a_185fde7fe44)\n",
        "back to BigQuery to edit the query within the BigQuery user interface."
      ]
    },
    {
      "cell_type": "code",
      "execution_count": null,
      "metadata": {
        "id": "KxSqPfAeXW_K",
        "outputId": "d1c28cd2-38e6-4835-b4f3-12970f256e21",
        "colab": {
          "base_uri": "https://localhost:8080/"
        }
      },
      "outputs": [
        {
          "output_type": "stream",
          "name": "stdout",
          "text": [
            "SELECT* FROM `caramel-park-375012.ulb_fraud_detection.fraud`\r\n",
            "\r\n",
            "\n"
          ]
        }
      ],
      "source": [
        "# Running this code will display the query used to generate your previous job from BigQuery\n",
        "\n",
        "job = client.get_job('bquxjob_36729913_185fdef751e') # Job ID inserted based on the query results selected to explore\n",
        "print(job.query)"
      ]
    },
    {
      "cell_type": "markdown",
      "metadata": {
        "id": "eY-wNOGO11ON"
      },
      "source": [
        "# Result set loaded from BigQuery job as a DataFrame\n",
        "Query results are referenced from the Job ID ran from BigQuery and the query\n",
        "does not need to be re-run to explore results. The ```to_dataframe```\n",
        "[method](https://googleapis.dev/python/bigquery/latest/generated/google.cloud.bigquery.job.QueryJob.html#google.cloud.bigquery.job.QueryJob.to_dataframe)\n",
        "downloads the results to a Pandas DataFrame by using the BigQuery Storage API.\n",
        "\n",
        "To edit query syntax, you can do so from the BigQuery SQL editor or in the\n",
        "```Optional:``` sections below."
      ]
    },
    {
      "cell_type": "code",
      "execution_count": null,
      "metadata": {
        "id": "bIw82qhuHWy0"
      },
      "outputs": [],
      "source": [
        "# Running this code will read results from your previous job\n",
        "\n",
        "job = client.get_job('bquxjob_36729913_185fdef751e') # Job ID inserted based on the query results selected to explore\n",
        "results = job.to_dataframe()\n",
        "results.head(8)"
      ]
    },
    {
      "cell_type": "code",
      "source": [
        "results['Class'].value_counts()"
      ],
      "metadata": {
        "id": "Bhaq4geI8OOf",
        "outputId": "352b0ad2-6eee-4649-f863-45e8c31cbaa2",
        "colab": {
          "base_uri": "https://localhost:8080/"
        }
      },
      "execution_count": null,
      "outputs": [
        {
          "output_type": "execute_result",
          "data": {
            "text/plain": [
              "0    284315\n",
              "1       492\n",
              "Name: Class, dtype: Int64"
            ]
          },
          "metadata": {},
          "execution_count": 10
        }
      ]
    },
    {
      "cell_type": "code",
      "source": [
        "#Splitting the dataset into train, test and validate parts in ratio of 80 : 10 : 10 respectively.\n",
        "# It creates a transaction Id (for Unique Id) and  split column for split part String as (TRAIN or VALIDATE or TEST)\n",
        "# Please go through FARM_FINGERPRINT() used for splitting data exactly same everytime anyone call this query. \n",
        "#It is very useful for dataset split reproducibility in order to compare results.\n",
        "dataset = 'ulb_fraud_detection'\n",
        "bq_table = 'fraud'\n",
        "query = f\"\"\"\n",
        "CREATE TABLE IF NOT EXISTS `{project}.{dataset}.{bq_table}_prepped` AS\n",
        "WITH add_id AS(SELECT *, GENERATE_UUID() transaction_id FROM `{project}.{dataset}.{bq_table}`)\n",
        "SELECT *,\n",
        "    CASE \n",
        "        WHEN MOD(ABS(FARM_FINGERPRINT(transaction_id)),10) < 8 THEN \"TRAIN\" \n",
        "        WHEN MOD(ABS(FARM_FINGERPRINT(transaction_id)),10) < 9 THEN \"VALIDATE\"\n",
        "        ELSE \"TEST\"\n",
        "    END AS splits\n",
        "FROM add_id\n",
        "\"\"\"\n",
        "job = client.query(query = query)\n",
        "job.result()"
      ],
      "metadata": {
        "id": "-gi6n_Xn-2Z8",
        "outputId": "c3761977-d587-48b4-8dc9-1673a0cd176d",
        "colab": {
          "base_uri": "https://localhost:8080/"
        }
      },
      "execution_count": null,
      "outputs": [
        {
          "output_type": "execute_result",
          "data": {
            "text/plain": [
              "<google.cloud.bigquery.table._EmptyRowIterator at 0x7f2422333f40>"
            ]
          },
          "metadata": {},
          "execution_count": 11
        }
      ]
    },
    {
      "cell_type": "code",
      "source": [
        "(job.ended - job.started).total_seconds()"
      ],
      "metadata": {
        "id": "vxbpOWpsAO1I",
        "outputId": "1ded3793-89ca-4095-abbf-d559b6b857b3",
        "colab": {
          "base_uri": "https://localhost:8080/"
        }
      },
      "execution_count": null,
      "outputs": [
        {
          "output_type": "execute_result",
          "data": {
            "text/plain": [
              "7.497"
            ]
          },
          "metadata": {},
          "execution_count": 12
        }
      ]
    },
    {
      "cell_type": "code",
      "source": [
        "# Verifying the Split percentage as 80:10:10\n",
        "query = f\"\"\"\n",
        "SELECT splits, count(*) as Count, 100*count(*) / (sum(count(*)) OVER()) as Percentage\n",
        "FROM `{project}.{dataset}.{bq_table}_prepped`\n",
        "GROUP BY splits\n",
        "\"\"\"\n",
        "client.query(query = query).to_dataframe()"
      ],
      "metadata": {
        "id": "N85wqdfUAuLd"
      },
      "execution_count": null,
      "outputs": []
    },
    {
      "cell_type": "markdown",
      "metadata": {
        "id": "84Ub57pbB6EN"
      },
      "source": [
        "## Show descriptive statistics using describe()\n",
        "Use the ```pandas DataFrame.describe()```\n",
        "[method](https://pandas.pydata.org/docs/reference/api/pandas.DataFrame.describe.html)\n",
        "to generate descriptive statistics. Descriptive statistics include those that\n",
        "summarize the central tendency, dispersion and shape of a dataset’s\n",
        "distribution, excluding ```NaN``` values. You may also use other Python methods\n",
        "to interact with your data."
      ]
    },
    {
      "cell_type": "code",
      "execution_count": null,
      "metadata": {
        "id": "fsAsHoWDZMpv"
      },
      "outputs": [],
      "source": [
        "# describe the basic characteristics of dataset\n",
        "results.describe()"
      ]
    }
  ],
  "metadata": {
    "colab": {
      "cell_execution_strategy": "setup",
      "name": "BigQuery bquxjob_73fbf4a_185fde7fe44",
      "provenance": []
    },
    "kernelspec": {
      "display_name": "Python 3",
      "name": "python3"
    },
    "language_info": {
      "name": "python"
    }
  },
  "nbformat": 4,
  "nbformat_minor": 0
}